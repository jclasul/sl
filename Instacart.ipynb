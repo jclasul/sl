{
 "cells": [
  {
   "cell_type": "code",
   "execution_count": 1,
   "metadata": {
    "ExecuteTime": {
     "end_time": "2018-06-18T23:35:56.335171Z",
     "start_time": "2018-06-18T23:35:55.619116Z"
    }
   },
   "outputs": [],
   "source": [
    "import pandas as pd\n",
    "import numpy as np\n",
    "import seaborn as sns\n",
    "import matplotlib.pyplot as plt\n",
    "%matplotlib inline\n",
    "%config InlineBackend.figure_format = 'retina'"
   ]
  },
  {
   "cell_type": "code",
   "execution_count": 2,
   "metadata": {
    "ExecuteTime": {
     "end_time": "2018-06-18T23:35:56.508672Z",
     "start_time": "2018-06-18T23:35:56.354554Z"
    }
   },
   "outputs": [],
   "source": [
    "# %load /Users/janclaes/GitHub/Instacart/SCRIPTS/ReadIn\n",
    "import os\n",
    "import glob\n",
    "import pandas as pd\n",
    "from collections import Counter\n",
    "from itertools import chain\n",
    "\n",
    "class ReadIn(object):\n",
    "    '''Read In multiple same file extensions using PANDAS read_ functions'''\n",
    "\n",
    "    def __init__(self, pwd):\n",
    "        '''set directory from which to import'''\n",
    "        self.pwd = pwd\n",
    "\n",
    "    def GetCSV(self):\n",
    "        self.all_files = glob.glob(os.path.join(self.pwd, self.ext))\n",
    "\n",
    "    def MakeDICT(self,**kwargs):\n",
    "        ''' ext= '*.csv'\n",
    "            ext= '*.xlsx'\n",
    "                \n",
    "            for sheets : sheets = '<name>'\n",
    "        '''\n",
    "        self.ext = kwargs.get('ext')\n",
    "        self.sheets = kwargs.get('sheets')\n",
    "        self.GetCSV()\n",
    "        self.datasets = {}\n",
    "        for key in self.all_files:\n",
    "            file_name = key.split('/')[-1].strip(self.ext)\n",
    "            self.datasets.update({file_name: key})\n",
    "\n",
    "        self.ReadCSVs()\n",
    "\n",
    "    def ReadCSVs(self):\n",
    "        file_extensions = {'*.csv':\"pd.read_csv\", '*.xlsx':\"pd.read_excel\", '*.xls':\"pd.read_excel\", '*.json':\"pd.read_json\"}\n",
    "        command = file_extensions.get(self.ext)\n",
    "        columns_list = []\n",
    "        columns_dict = {}\n",
    "        \n",
    "        ## TODO\n",
    "        #\n",
    "        # find all excel sheets and import every single one\n",
    "        \n",
    "        for key in self.datasets.keys():\n",
    "            print(\"Reading in : {}\".format(key))\n",
    "            globals()['%s' %key] = eval(command)(self.datasets.get(key)) #,**kwargs)\n",
    "            column_list = (eval(key).columns.tolist())\n",
    "            columns_list.append(column_list)\n",
    "            columns_dict.update({key:column_list})\n",
    "            NAcheck = eval(key).isna().any(axis=0).any()\n",
    "            if NAcheck == True:\n",
    "                print('  ...\\033[1m[{}] contains NAs\\033[0m...'.format(key))\n",
    "        \n",
    "        print('\\nStoring names in [datasets]')\n",
    "        globals()['datasets'] = list(self.datasets.keys())\n",
    "        \n",
    "        print('Storing column names count in [columns_list]')\n",
    "        globals()['columns_list'] = Counter([i for i in chain.from_iterable([*columns_dict.values()])])\n",
    "        \n",
    "        \n",
    "        print('Storing column names as dictionary in {columns_dict}')\n",
    "        globals()['columns_dict'] = columns_dict\n",
    "        \n",
    "        self.MakeVC()\n",
    "        \n",
    "    def MakeVC(self):\n",
    "        RowNames = [*columns_dict.keys()]\n",
    "        ColNames = [*columns_list.keys()]\n",
    "\n",
    "        VC = pd.DataFrame(np.zeros((len(RowNames),len(ColNames))))        \n",
    "        VC.columns = columns_list\n",
    "        VC.index = RowNames\n",
    "\n",
    "        for idx in columns_dict.keys():\n",
    "            for col in columns_dict[idx]:\n",
    "                VC.loc[idx,col] = float(len(eval(idx).loc[:,col].unique()))\n",
    "\n",
    "        print('\\nStoring summary table in [VC]\\n\\n')\n",
    "        globals()['VC'] = VC.T.replace(0,'') \n",
    "        \n",
    "        for data in datasets:\n",
    "            print('\\033[1m{} \\n\\033[0m>>> rows: {:,}\\n<<< columns: {:,}\\n'.format(data, eval(data).shape[0], eval(data).shape[1]))"
   ]
  },
  {
   "cell_type": "code",
   "execution_count": 3,
   "metadata": {
    "ExecuteTime": {
     "end_time": "2018-06-18T23:35:57.263037Z",
     "start_time": "2018-06-18T23:35:57.258676Z"
    }
   },
   "outputs": [
    {
     "name": "stdout",
     "output_type": "stream",
     "text": [
      "\n",
      "Storing names in [datasets]\n",
      "Storing column names count in [columns_list]\n",
      "Storing column names as dictionary in {columns_dict}\n",
      "\n",
      "Storing summary table in [VC]\n",
      "\n",
      "\n"
     ]
    }
   ],
   "source": [
    "ReadIn('/Users/janclaes/GitHub/Instacart/instacart-basket-prediction/data/raw/').MakeDICT(ext='*.csv')"
   ]
  },
  {
   "cell_type": "code",
   "execution_count": 4,
   "metadata": {
    "ExecuteTime": {
     "end_time": "2018-06-18T23:35:58.713560Z",
     "start_time": "2018-06-18T23:35:58.706060Z"
    }
   },
   "outputs": [
    {
     "data": {
      "text/html": [
       "<div>\n",
       "<style scoped>\n",
       "    .dataframe tbody tr th:only-of-type {\n",
       "        vertical-align: middle;\n",
       "    }\n",
       "\n",
       "    .dataframe tbody tr th {\n",
       "        vertical-align: top;\n",
       "    }\n",
       "\n",
       "    .dataframe thead th {\n",
       "        text-align: right;\n",
       "    }\n",
       "</style>\n",
       "<table border=\"1\" class=\"dataframe\">\n",
       "  <thead>\n",
       "    <tr style=\"text-align: right;\">\n",
       "      <th></th>\n",
       "    </tr>\n",
       "  </thead>\n",
       "  <tbody>\n",
       "  </tbody>\n",
       "</table>\n",
       "</div>"
      ],
      "text/plain": [
       "Empty DataFrame\n",
       "Columns: []\n",
       "Index: []"
      ]
     },
     "execution_count": 4,
     "metadata": {},
     "output_type": "execute_result"
    }
   ],
   "source": [
    "VC"
   ]
  },
  {
   "cell_type": "code",
   "execution_count": 5,
   "metadata": {
    "ExecuteTime": {
     "end_time": "2018-06-18T23:35:59.398553Z",
     "start_time": "2018-06-18T23:35:59.184712Z"
    }
   },
   "outputs": [
    {
     "ename": "NameError",
     "evalue": "name 'order' is not defined",
     "output_type": "error",
     "traceback": [
      "\u001b[0;31m---------------------------------------------------------------------------\u001b[0m",
      "\u001b[0;31mNameError\u001b[0m                                 Traceback (most recent call last)",
      "\u001b[0;32m<ipython-input-5-2e655d501d9a>\u001b[0m in \u001b[0;36m<module>\u001b[0;34m()\u001b[0m\n\u001b[0;32m----> 1\u001b[0;31m \u001b[0morder\u001b[0m \u001b[0;34m=\u001b[0m \u001b[0morder\u001b[0m\u001b[0;34m.\u001b[0m\u001b[0msort_values\u001b[0m\u001b[0;34m(\u001b[0m\u001b[0;34m[\u001b[0m\u001b[0;34m'user_id'\u001b[0m\u001b[0;34m,\u001b[0m\u001b[0;34m'order_number'\u001b[0m\u001b[0;34m]\u001b[0m\u001b[0;34m,\u001b[0m \u001b[0mascending\u001b[0m\u001b[0;34m=\u001b[0m\u001b[0;32mTrue\u001b[0m\u001b[0;34m)\u001b[0m\u001b[0;34m\u001b[0m\u001b[0m\n\u001b[0m",
      "\u001b[0;31mNameError\u001b[0m: name 'order' is not defined"
     ]
    }
   ],
   "source": [
    "order = order.sort_values(['user_id','order_number'], ascending=True)"
   ]
  },
  {
   "cell_type": "code",
   "execution_count": 6,
   "metadata": {
    "ExecuteTime": {
     "end_time": "2018-06-18T23:35:59.528680Z",
     "start_time": "2018-06-18T23:35:59.517573Z"
    },
    "scrolled": false
   },
   "outputs": [
    {
     "ename": "NameError",
     "evalue": "name 'order' is not defined",
     "output_type": "error",
     "traceback": [
      "\u001b[0;31m---------------------------------------------------------------------------\u001b[0m",
      "\u001b[0;31mNameError\u001b[0m                                 Traceback (most recent call last)",
      "\u001b[0;32m<ipython-input-6-b90e10a59256>\u001b[0m in \u001b[0;36m<module>\u001b[0;34m()\u001b[0m\n\u001b[0;32m----> 1\u001b[0;31m \u001b[0morder\u001b[0m\u001b[0;34m.\u001b[0m\u001b[0mtail\u001b[0m\u001b[0;34m(\u001b[0m\u001b[0;36m30\u001b[0m\u001b[0;34m)\u001b[0m\u001b[0;34m\u001b[0m\u001b[0m\n\u001b[0m",
      "\u001b[0;31mNameError\u001b[0m: name 'order' is not defined"
     ]
    }
   ],
   "source": [
    "order.tail(30)"
   ]
  },
  {
   "cell_type": "code",
   "execution_count": 7,
   "metadata": {
    "ExecuteTime": {
     "end_time": "2018-06-18T23:35:59.762553Z",
     "start_time": "2018-06-18T23:35:59.741809Z"
    }
   },
   "outputs": [],
   "source": [
    "def f(user_id,n=2,asc=True):\n",
    "    globals()['ss'] = str(tuple(order.query('user_id == %s' % user_id).order_id)[:n])\n",
    "    print(ss)\n",
    "    out = order_products__prior.query('order_id in %s' % ss)\n",
    "    out.order_id = out.order_id.astype(\"category\")\n",
    "    out.order_id = out.order_id.astype(\"category\").cat.set_categories(eval(ss))    \n",
    "    out = out.sort_values(['order_id'], ascending=asc)\n",
    "    return out\n",
    "\n",
    "def ff(n=2):\n",
    "    priors = order_products__prior.query('order_id == %i' % eval(ss)[-n])\\\n",
    "        .query('reordered > 0')['product_id'].tolist()\n",
    "    print('at {} reordered {}'.format(eval(ss)[-n], priors))\n",
    "    \n",
    "    print('at {}:'.format(eval(ss)[-n-1]))\n",
    "    return order_products__prior.query('order_id == %i' % eval(ss)[-n-1])\\\n",
    "            .query('product_id in %s' % priors)"
   ]
  },
  {
   "cell_type": "code",
   "execution_count": 140,
   "metadata": {
    "ExecuteTime": {
     "end_time": "2018-06-18T23:29:46.085001Z",
     "start_time": "2018-06-18T23:29:45.277340Z"
    }
   },
   "outputs": [
    {
     "name": "stdout",
     "output_type": "stream",
     "text": [
      "(3144300, 260547, 1905019, 3014999, 2177388, 634358, 36883, 2724741, 98665, 304803)\n"
     ]
    },
    {
     "name": "stderr",
     "output_type": "stream",
     "text": [
      "/Users/janclaes/anaconda/lib/python3.6/site-packages/pandas/core/generic.py:3643: SettingWithCopyWarning: \n",
      "A value is trying to be set on a copy of a slice from a DataFrame.\n",
      "Try using .loc[row_indexer,col_indexer] = value instead\n",
      "\n",
      "See the caveats in the documentation: http://pandas.pydata.org/pandas-docs/stable/indexing.html#indexing-view-versus-copy\n",
      "  self[name] = value\n"
     ]
    }
   ],
   "source": [
    "df = f(user_id=1468,n=20)"
   ]
  },
  {
   "cell_type": "code",
   "execution_count": 141,
   "metadata": {
    "ExecuteTime": {
     "end_time": "2018-06-18T23:29:46.964699Z",
     "start_time": "2018-06-18T23:29:46.955479Z"
    }
   },
   "outputs": [
    {
     "data": {
      "text/plain": [
       "17211    0.444444\n",
       "12013    0.444444\n",
       "13166    0.333333\n",
       "12817    0.333333\n",
       "13176    0.333333\n",
       "35213    0.222222\n",
       "16234    0.222222\n",
       "29020    0.222222\n",
       "204      0.222222\n",
       "38365    0.111111\n",
       "42887    0.111111\n",
       "37646    0.111111\n",
       "32655    0.111111\n",
       "46382    0.111111\n",
       "33153    0.111111\n",
       "19540    0.111111\n",
       "18135    0.111111\n",
       "30233    0.111111\n",
       "21616    0.111111\n",
       "48933    0.111111\n",
       "4258     0.111111\n",
       "49191    0.111111\n",
       "46654    0.111111\n",
       "20711    0.111111\n",
       "35752    0.111111\n",
       "31081    0.111111\n",
       "17835    0.111111\n",
       "32684    0.111111\n",
       "16349    0.111111\n",
       "10673    0.111111\n",
       "5876     0.111111\n",
       "1463     0.111111\n",
       "19068    0.111111\n",
       "31808    0.111111\n",
       "Name: product_id, dtype: float64"
      ]
     },
     "execution_count": 141,
     "metadata": {},
     "output_type": "execute_result"
    }
   ],
   "source": [
    "df.product_id.value_counts()/df.order_id.unique().shape[0]"
   ]
  },
  {
   "cell_type": "code",
   "execution_count": 152,
   "metadata": {
    "ExecuteTime": {
     "end_time": "2018-06-18T23:31:02.286158Z",
     "start_time": "2018-06-18T23:31:02.283234Z"
    }
   },
   "outputs": [],
   "source": [
    "x,y = 0.11,0.44\n",
    "xORy = [(x+y),max(x,y)]"
   ]
  },
  {
   "cell_type": "code",
   "execution_count": 153,
   "metadata": {
    "ExecuteTime": {
     "end_time": "2018-06-18T23:31:02.458091Z",
     "start_time": "2018-06-18T23:31:02.455056Z"
    }
   },
   "outputs": [],
   "source": [
    "xANDy = [x+y-i for i in xORy]"
   ]
  },
  {
   "cell_type": "code",
   "execution_count": 154,
   "metadata": {
    "ExecuteTime": {
     "end_time": "2018-06-18T23:31:03.818478Z",
     "start_time": "2018-06-18T23:31:03.811069Z"
    }
   },
   "outputs": [
    {
     "data": {
      "text/plain": [
       "[0.0, 0.2500000000000001]"
      ]
     },
     "execution_count": 154,
     "metadata": {},
     "output_type": "execute_result"
    }
   ],
   "source": [
    "[i/y for i in xANDy]"
   ]
  },
  {
   "cell_type": "code",
   "execution_count": 151,
   "metadata": {
    "ExecuteTime": {
     "end_time": "2018-06-18T23:30:32.301408Z",
     "start_time": "2018-06-18T23:30:32.285568Z"
    }
   },
   "outputs": [
    {
     "data": {
      "text/plain": [
       "17211    1.00\n",
       "12013    1.00\n",
       "29020    0.50\n",
       "30233    0.25\n",
       "1463     0.25\n",
       "19540    0.25\n",
       "16234    0.25\n",
       "31081    0.25\n",
       "35752    0.25\n",
       "35213    0.25\n",
       "33153    0.25\n",
       "Name: product_id, dtype: float64"
      ]
     },
     "execution_count": 151,
     "metadata": {},
     "output_type": "execute_result"
    }
   ],
   "source": [
    "df.query('order_id in %s' % df.query('product_id == 17211').order_id.tolist())\\\n",
    "    .product_id.value_counts()/df.query('product_id == 17211').order_id.shape[0]"
   ]
  },
  {
   "cell_type": "code",
   "execution_count": 9,
   "metadata": {
    "ExecuteTime": {
     "end_time": "2018-06-18T22:30:36.976781Z",
     "start_time": "2018-06-18T22:30:35.012554Z"
    }
   },
   "outputs": [
    {
     "name": "stdout",
     "output_type": "stream",
     "text": [
      "(1374495, 444309, 3002854, 2037211, 2710558, 1972919, 1839752, 3225766, 3160850, 676467, 521107, 1402502, 2774568)\n"
     ]
    },
    {
     "name": "stderr",
     "output_type": "stream",
     "text": [
      "/Users/janclaes/anaconda/lib/python3.6/site-packages/pandas/core/generic.py:3643: SettingWithCopyWarning: \n",
      "A value is trying to be set on a copy of a slice from a DataFrame.\n",
      "Try using .loc[row_indexer,col_indexer] = value instead\n",
      "\n",
      "See the caveats in the documentation: http://pandas.pydata.org/pandas-docs/stable/indexing.html#indexing-view-versus-copy\n",
      "  self[name] = value\n"
     ]
    },
    {
     "name": "stdout",
     "output_type": "stream",
     "text": [
      "at 1402502 reordered [39190, 18599, 23650, 21903, 47766, 24810]\n",
      "at 521107:\n"
     ]
    },
    {
     "data": {
      "text/html": [
       "<div>\n",
       "<style scoped>\n",
       "    .dataframe tbody tr th:only-of-type {\n",
       "        vertical-align: middle;\n",
       "    }\n",
       "\n",
       "    .dataframe tbody tr th {\n",
       "        vertical-align: top;\n",
       "    }\n",
       "\n",
       "    .dataframe thead th {\n",
       "        text-align: right;\n",
       "    }\n",
       "</style>\n",
       "<table border=\"1\" class=\"dataframe\">\n",
       "  <thead>\n",
       "    <tr style=\"text-align: right;\">\n",
       "      <th></th>\n",
       "      <th>order_id</th>\n",
       "      <th>product_id</th>\n",
       "      <th>add_to_cart_order</th>\n",
       "      <th>reordered</th>\n",
       "    </tr>\n",
       "  </thead>\n",
       "  <tbody>\n",
       "    <tr>\n",
       "      <th>4937733</th>\n",
       "      <td>521107</td>\n",
       "      <td>39190</td>\n",
       "      <td>1</td>\n",
       "      <td>1</td>\n",
       "    </tr>\n",
       "    <tr>\n",
       "      <th>4937734</th>\n",
       "      <td>521107</td>\n",
       "      <td>47766</td>\n",
       "      <td>2</td>\n",
       "      <td>1</td>\n",
       "    </tr>\n",
       "    <tr>\n",
       "      <th>4937735</th>\n",
       "      <td>521107</td>\n",
       "      <td>21903</td>\n",
       "      <td>3</td>\n",
       "      <td>1</td>\n",
       "    </tr>\n",
       "  </tbody>\n",
       "</table>\n",
       "</div>"
      ],
      "text/plain": [
       "         order_id  product_id  add_to_cart_order  reordered\n",
       "4937733    521107       39190                  1          1\n",
       "4937734    521107       47766                  2          1\n",
       "4937735    521107       21903                  3          1"
      ]
     },
     "execution_count": 9,
     "metadata": {},
     "output_type": "execute_result"
    }
   ],
   "source": [
    "f(user_id=3,n=20)\n",
    "ff()"
   ]
  },
  {
   "cell_type": "code",
   "execution_count": 10,
   "metadata": {
    "ExecuteTime": {
     "end_time": "2018-06-18T22:30:37.613077Z",
     "start_time": "2018-06-18T22:30:37.157265Z"
    }
   },
   "outputs": [
    {
     "data": {
      "text/html": [
       "<div>\n",
       "<style scoped>\n",
       "    .dataframe tbody tr th:only-of-type {\n",
       "        vertical-align: middle;\n",
       "    }\n",
       "\n",
       "    .dataframe tbody tr th {\n",
       "        vertical-align: top;\n",
       "    }\n",
       "\n",
       "    .dataframe thead th {\n",
       "        text-align: right;\n",
       "    }\n",
       "</style>\n",
       "<table border=\"1\" class=\"dataframe\">\n",
       "  <thead>\n",
       "    <tr style=\"text-align: right;\">\n",
       "      <th></th>\n",
       "      <th>order_id</th>\n",
       "      <th>product_id</th>\n",
       "      <th>add_to_cart_order</th>\n",
       "      <th>reordered</th>\n",
       "    </tr>\n",
       "  </thead>\n",
       "  <tbody>\n",
       "    <tr>\n",
       "      <th>4937733</th>\n",
       "      <td>521107</td>\n",
       "      <td>39190</td>\n",
       "      <td>1</td>\n",
       "      <td>1</td>\n",
       "    </tr>\n",
       "    <tr>\n",
       "      <th>4937734</th>\n",
       "      <td>521107</td>\n",
       "      <td>47766</td>\n",
       "      <td>2</td>\n",
       "      <td>1</td>\n",
       "    </tr>\n",
       "    <tr>\n",
       "      <th>4937735</th>\n",
       "      <td>521107</td>\n",
       "      <td>21903</td>\n",
       "      <td>3</td>\n",
       "      <td>1</td>\n",
       "    </tr>\n",
       "    <tr>\n",
       "      <th>4937736</th>\n",
       "      <td>521107</td>\n",
       "      <td>43961</td>\n",
       "      <td>4</td>\n",
       "      <td>1</td>\n",
       "    </tr>\n",
       "    <tr>\n",
       "      <th>4937737</th>\n",
       "      <td>521107</td>\n",
       "      <td>17668</td>\n",
       "      <td>5</td>\n",
       "      <td>1</td>\n",
       "    </tr>\n",
       "  </tbody>\n",
       "</table>\n",
       "</div>"
      ],
      "text/plain": [
       "         order_id  product_id  add_to_cart_order  reordered\n",
       "4937733    521107       39190                  1          1\n",
       "4937734    521107       47766                  2          1\n",
       "4937735    521107       21903                  3          1\n",
       "4937736    521107       43961                  4          1\n",
       "4937737    521107       17668                  5          1"
      ]
     },
     "execution_count": 10,
     "metadata": {},
     "output_type": "execute_result"
    }
   ],
   "source": [
    "order_products__prior.query('order_id == %i' % eval(ss)[-3])"
   ]
  },
  {
   "cell_type": "markdown",
   "metadata": {},
   "source": [
    "reordered is always zero the first order"
   ]
  },
  {
   "cell_type": "code",
   "execution_count": 11,
   "metadata": {
    "ExecuteTime": {
     "end_time": "2018-06-18T22:30:44.587593Z",
     "start_time": "2018-06-18T22:30:37.742236Z"
    }
   },
   "outputs": [
    {
     "data": {
      "text/plain": [
       "count    2078068.0\n",
       "mean           0.0\n",
       "std            0.0\n",
       "min            0.0\n",
       "25%            0.0\n",
       "50%            0.0\n",
       "75%            0.0\n",
       "max            0.0\n",
       "Name: reordered, dtype: float64"
      ]
     },
     "execution_count": 11,
     "metadata": {},
     "output_type": "execute_result"
    }
   ],
   "source": [
    "ss = str(tuple(order[order.days_since_prior_order.isna()].order_id))\n",
    "order_products__prior.query('order_id in %s' % ss).reordered.describe()"
   ]
  }
 ],
 "metadata": {
  "celltoolbar": "Raw Cell Format",
  "kernelspec": {
   "display_name": "Python 3",
   "language": "python",
   "name": "python3"
  },
  "language_info": {
   "codemirror_mode": {
    "name": "ipython",
    "version": 3
   },
   "file_extension": ".py",
   "mimetype": "text/x-python",
   "name": "python",
   "nbconvert_exporter": "python",
   "pygments_lexer": "ipython3",
   "version": "3.6.4"
  },
  "varInspector": {
   "cols": {
    "lenName": 16,
    "lenType": 16,
    "lenVar": 40
   },
   "kernels_config": {
    "python": {
     "delete_cmd_postfix": "",
     "delete_cmd_prefix": "del ",
     "library": "var_list.py",
     "varRefreshCmd": "print(var_dic_list())"
    },
    "r": {
     "delete_cmd_postfix": ") ",
     "delete_cmd_prefix": "rm(",
     "library": "var_list.r",
     "varRefreshCmd": "cat(var_dic_list()) "
    }
   },
   "oldHeight": 344,
   "position": {
    "height": "366px",
    "left": "716px",
    "right": "-14px",
    "top": "477px",
    "width": "738px"
   },
   "types_to_exclude": [
    "module",
    "function",
    "builtin_function_or_method",
    "instance",
    "_Feature"
   ],
   "varInspector_section_display": "block",
   "window_display": false
  }
 },
 "nbformat": 4,
 "nbformat_minor": 2
}
